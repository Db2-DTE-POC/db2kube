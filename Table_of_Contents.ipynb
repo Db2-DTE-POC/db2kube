{
 "cells": [
  {
   "cell_type": "markdown",
   "metadata": {},
   "source": [
    "[![](./media/dte-header.jpg)](https://www.ibm.com/demos/collection/db2-database/)\n",
    "<a id=\"top\">"
   ]
  },
  {
   "cell_type": "markdown",
   "metadata": {},
   "source": [
    "<div style=\"border-style: solid; border-width: 2px; border-color: red; background-color:#F2F2F2; padding: 10px;\" >\n",
    "    <b>Alert!</b> If the browser becomes unresponsive, use the mouse <b>right-click</b> button anywhere on the web page to restore control.\n",
    "</div>"
   ]
  },
  {
   "cell_type": "markdown",
   "metadata": {},
   "source": [
    "# Installing Db2 on Kubernetes\n",
    "Welcome to this Db2 lab that highlights how you can install Db2 in a Kubernetes cluster. Rather than using a cluster of machines, this lab will use a system called **MiniKube** which simulates a cluster on a single node. Kubernetes is the foundation for a number of products, including OpenShift and Cloud Pak for Data. Understanding how to install Db2 in this environment will give you valuable background when working with these other systems."
   ]
  },
  {
   "cell_type": "markdown",
   "metadata": {},
   "source": [
    "<div style=\"font-family: 'IBM Plex Sans';\">\n",
    "<table style=\"float:left; width: 620px; height: 235px; border-spacing: 10px; border-collapse: separate; table-layout: fixed\">\n",
    "    <td style=\"padding: 15px; text-align:left; vertical-align: text-top; background-color:#F7F7F7; width: 300px; height: 250px;\">\n",
    "        <div style=\"height: 75px\"><p style=\"font-size: 24px\">An Introduction to Jupyter Notebooks</div>\n",
    "        <div style=\"height: 125px\"><p style=\"font-size: 14px\">\n",
    "             If you are not familiar with the use of Jupyter notebooks or Python, the following notebook \n",
    "             will guide you through their usage.\n",
    "        </div>\n",
    "        <div style=\"height: 25px\"><p style=\"font-size: 12px; text-align: right\">\n",
    "            <img style=\"display: inline-block;\"src=\"./media/clock.png\">&nbsp;10min\n",
    "        </div>\n",
    "        <div style=\"height: 10px\"><p style=\"font-size: 12px; text-align: right\">\n",
    "             <a href=\"http://localhost:8888/notebooks/An_Introduction_to_Jupyter_Notebooks.ipynb\">\n",
    "                 <img style=\"display: inline-block;\"src=\"./media/arrowblue.png\"></a>            \n",
    "        </div>            \n",
    "    </td>\n",
    "    <td style=\"padding: 15px; text-align:left; vertical-align: text-top; background-color:#F7F7F7; width: 300px; height:250px\">\n",
    "        <div style=\"height: 75px\"><p style=\"font-size: 24px\">Installing Db2 on Kubernetes</div>\n",
    "        <div style=\"height: 125px\"><p style=\"font-size: 14px\">\n",
    "             This lab will take the user through the various steps required to get Db2 up and running on a \n",
    "             Minikube environment. The Minikube system has been designed to allow developers to test aspects of\n",
    "             Kubernetes without the overhead or running a large cluster.\n",
    "        </div>\n",
    "        <div style=\"height: 25px\"><p style=\"font-size: 12px; text-align: right\">\n",
    "            <img style=\"display: inline-block;\"src=\"./media/clock.png\">&nbsp;40min\n",
    "        </div>  \n",
    "        <div style=\"height: 10px\"><p style=\"font-size: 12px; text-align: right\">\n",
    "             <a href=\"http://localhost:8888/notebooks/Installing_Db2_on_Kubernetes.ipynb\">\n",
    "                 <img style=\"display: inline-block;\"src=\"./media/arrowblue.png\"></a>            \n",
    "        </div>            \n",
    "    </td>        \n",
    "</table>\n",
    "</div>"
   ]
  },
  {
   "cell_type": "markdown",
   "metadata": {},
   "source": [
    "Db2 Magic commands allow you to access Db2 within a Jupyter notebook without having to use the underlying Python database drivers. These notebooks take you through the basics of using the Db2 magic commands as well as more complex SQL examples."
   ]
  },
  {
   "cell_type": "markdown",
   "metadata": {},
   "source": [
    "<!-- Row 1 -->\n",
    "<div style=\"font-family: 'IBM Plex Sans';\">  \n",
    "<table style=\"float:left; width: 620px; height: 235px; border-spacing: 10px; border-collapse: separate; table-layout: fixed\">\n",
    "    <td style=\"padding: 15px; text-align:left; vertical-align: text-top; background-color:#F7F7F7; width: 300px; height: 250px;\">\n",
    "        <div style=\"height: 75px\"><p style=\"font-size: 24px\">\n",
    "<!-- Title -->\n",
    "An Introduction to Db2 Magic Commands\n",
    "        </div>\n",
    "        <div style=\"height: 120px\"><p style=\"font-size: 14px\">\n",
    "<!-- Description -->\n",
    "Magic commands are extensions to Jupyter notebooks that allow you issue commands to Db2 without knowing the underlying code required to do it. This notebook gives you an introduction to the use of the %sql magic command.\n",
    "        </div>\n",
    "        <div style=\"height: 25px\"><p style=\"font-size: 12px; text-align: right\">\n",
    "            <img style=\"display: inline-block;\"src=\"./media/clock.png\">&nbsp;\n",
    "<!-- Duration -->            \n",
    "10min\n",
    "        </div>\n",
    "        <div style=\"height: 10px\"><p style=\"font-size: 12px; text-align: right\">\n",
    "             <a href=\"http://localhost:8888/notebooks/Db2_Jupyter_Extensions_Tutorial.ipynb\">\n",
    "                 <img style=\"display: inline-block;\"src=\"./media/arrowblue.png\"></a>            \n",
    "        </div>        \n",
    "    </td>    \n",
    "    <td style=\"padding: 15px; text-align:left; vertical-align: text-top; background-color:#F7F7F7; width: 300px; height:250px\">\n",
    "        <div style=\"height: 75px\"><p style=\"font-size: 24px\">A Brief Introduction to Python</div>\n",
    "        <div style=\"height: 125px\"><p style=\"font-size: 14px\">\n",
    "             Jupyter notebooks are built upon a Python foundation, so this notebook will take your through the basics of \n",
    "             using Python.\n",
    "        </div>\n",
    "        <div style=\"height: 25px\"><p style=\"font-size: 12px; text-align: right\">\n",
    "            <img style=\"display: inline-block;\"src=\"./media/clock.png\">&nbsp;20min\n",
    "        </div>  \n",
    "        <div style=\"height: 10px\"><p style=\"font-size: 12px; text-align: right\">\n",
    "             <a href=\"http://localhost:8888/notebooks/An_Introduction_to_Python.ipynb\">\n",
    "                 <img style=\"display: inline-block;\"src=\"./media/arrowblue.png\"></a>            \n",
    "        </div>            \n",
    "    </td>\n",
    "    <td style=\"padding: 15px; text-align:left; vertical-align: text-top; background-color:#F7F7F7; width: 300px; height:250px\">\n",
    "        <div style=\"height: 75px\"><p style=\"font-size: 24px\">Db2 Python API Library and Examples</div>\n",
    "        <div style=\"height: 125px\"><p style=\"font-size: 14px\">\n",
    "             This link will take you to the Github repository which gives you detailed information on the Db2 Python driver along\n",
    "             with examples on how to use these functions.\n",
    "        </div>\n",
    "        <div style=\"height: 25px\"><p style=\"font-size: 12px; text-align: right\">\n",
    "            <img style=\"display: inline-block;\"src=\"./media/clock.png\">&nbsp;5min\n",
    "        </div>  \n",
    "        <div style=\"height: 10px\"><p style=\"font-size: 12px; text-align: right\">\n",
    "             <a href=\"https://github.com/IBM/db2-python\">\n",
    "                 <img style=\"display: inline-block;\"src=\"./media/arrowblue.png\"></a>            \n",
    "        </div>            \n",
    "    </td>  \n",
    "</table>\n",
    "</div>"
   ]
  },
  {
   "cell_type": "markdown",
   "metadata": {},
   "source": [
    "#### Questions and Comments: Phil Downey [phil.downey1@ibm.com], George Baklarz [baklarz@ca.ibm.com]"
   ]
  }
 ],
 "metadata": {
  "kernelspec": {
   "display_name": "Python 3",
   "language": "python",
   "name": "python3"
  },
  "language_info": {
   "codemirror_mode": {
    "name": "ipython",
    "version": 3
   },
   "file_extension": ".py",
   "mimetype": "text/x-python",
   "name": "python",
   "nbconvert_exporter": "python",
   "pygments_lexer": "ipython3",
   "version": "3.7.4"
  }
 },
 "nbformat": 4,
 "nbformat_minor": 2
}
